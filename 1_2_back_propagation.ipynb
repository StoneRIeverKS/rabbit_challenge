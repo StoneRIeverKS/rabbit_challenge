{
 "cells": [
  {
   "cell_type": "markdown",
   "metadata": {
    "colab_type": "text",
    "id": "8cNl2QA_Rnv5"
   },
   "source": [
    "# 準備"
   ]
  },
  {
   "cell_type": "markdown",
   "metadata": {
    "colab_type": "text",
    "id": "3Ub7RYdeY6pK"
   },
   "source": [
    "## sys.pathの設定"
   ]
  },
  {
   "cell_type": "markdown",
   "metadata": {
    "colab_type": "text",
    "id": "oql7L19rEsWi"
   },
   "source": [
    "以下では，Googleドライブのマイドライブ直下にDNN_codeフォルダを置くことを仮定しています．必要に応じて，パスを変更してください．"
   ]
  },
  {
   "cell_type": "code",
   "execution_count": 1,
   "metadata": {
    "ExecuteTime": {
     "end_time": "2022-01-08T15:25:40.234200Z",
     "start_time": "2022-01-08T15:25:40.220477Z"
    },
    "colab": {},
    "colab_type": "code",
    "id": "7Ic2JzkvFX59"
   },
   "outputs": [],
   "source": [
    "import sys\n",
    "sys.path.append(\"C:\\\\Users\\\\stone\\\\Documents\\\\資格\\\\E資格\\\\深層学習day1_2\\\\DNN_code_colab_lesson_1_2\")"
   ]
  },
  {
   "cell_type": "markdown",
   "metadata": {
    "colab_type": "text",
    "id": "k5L0AWliZYng"
   },
   "source": [
    "# importと関数定義"
   ]
  },
  {
   "cell_type": "code",
   "execution_count": 2,
   "metadata": {
    "ExecuteTime": {
     "end_time": "2022-01-08T15:25:40.782779Z",
     "start_time": "2022-01-08T15:25:40.236353Z"
    },
    "colab": {},
    "colab_type": "code",
    "id": "aNcuxoGogLvM"
   },
   "outputs": [],
   "source": [
    "import numpy as np\n",
    "from common import functions\n",
    "import matplotlib.pyplot as plt\n",
    "\n",
    "def print_vec(text, vec):\n",
    "    print(\"*** \" + text + \" ***\")\n",
    "    print(vec)\n",
    "    #print(\"shape: \" + str(x.shape))\n",
    "    print(\"\")\n"
   ]
  },
  {
   "cell_type": "markdown",
   "metadata": {
    "colab_type": "text",
    "id": "uhkhpJjOgbtF"
   },
   "source": [
    "# メインプログラム"
   ]
  },
  {
   "cell_type": "code",
   "execution_count": 3,
   "metadata": {
    "ExecuteTime": {
     "end_time": "2022-01-08T15:25:40.844775Z",
     "start_time": "2022-01-08T15:25:40.784786Z"
    },
    "colab": {},
    "colab_type": "code",
    "id": "Ma1nAxuegLvQ"
   },
   "outputs": [
    {
     "name": "stdout",
     "output_type": "stream",
     "text": [
      "##### ネットワークの初期化 #####\n",
      "*** 重み1 ***\n",
      "[[0.1 0.3 0.5]\n",
      " [0.2 0.4 0.6]]\n",
      "\n",
      "*** 重み2 ***\n",
      "[[0.1 0.4]\n",
      " [0.2 0.5]\n",
      " [0.3 0.6]]\n",
      "\n",
      "*** バイアス1 ***\n",
      "[0.1 0.2 0.3]\n",
      "\n",
      "*** バイアス2 ***\n",
      "[0.1 0.2]\n",
      "\n",
      "##### 順伝播開始 #####\n",
      "*** 総入力1 ***\n",
      "[[1.2 2.5 3.8]]\n",
      "\n",
      "*** 中間層出力1 ***\n",
      "[[1.2 2.5 3.8]]\n",
      "\n",
      "*** 総入力2 ***\n",
      "[[1.86 4.21]]\n",
      "\n",
      "*** 出力1 ***\n",
      "[[0.08706577 0.91293423]]\n",
      "\n",
      "出力合計: 1.0\n",
      "\n",
      "##### 誤差逆伝播開始 #####\n",
      "*** 偏微分_dE/du2 ***\n",
      "[[ 0.08706577 -0.08706577]]\n",
      "\n",
      "*** 偏微分_dE/du2 ***\n",
      "[[-0.02611973 -0.02611973 -0.02611973]]\n",
      "\n",
      "*** 偏微分_重み1 ***\n",
      "[[-0.02611973 -0.02611973 -0.02611973]\n",
      " [-0.13059866 -0.13059866 -0.13059866]]\n",
      "\n",
      "*** 偏微分_重み2 ***\n",
      "[[ 0.10447893 -0.10447893]\n",
      " [ 0.21766443 -0.21766443]\n",
      " [ 0.33084994 -0.33084994]]\n",
      "\n",
      "*** 偏微分_バイアス1 ***\n",
      "[-0.02611973 -0.02611973 -0.02611973]\n",
      "\n",
      "*** 偏微分_バイアス2 ***\n",
      "[ 0.08706577 -0.08706577]\n",
      "\n",
      "##### 結果表示 #####\n",
      "##### 更新後パラメータ #####\n",
      "*** 重み1 ***\n",
      "[[0.1002612  0.3002612  0.5002612 ]\n",
      " [0.20130599 0.40130599 0.60130599]]\n",
      "\n",
      "*** 重み2 ***\n",
      "[[0.09895521 0.40104479]\n",
      " [0.19782336 0.50217664]\n",
      " [0.2966915  0.6033085 ]]\n",
      "\n",
      "*** バイアス1 ***\n",
      "[0.1002612 0.2002612 0.3002612]\n",
      "\n",
      "*** バイアス2 ***\n",
      "[0.09912934 0.20087066]\n",
      "\n"
     ]
    }
   ],
   "source": [
    "# ウェイトとバイアスを設定\n",
    "# ネートワークを作成\n",
    "def init_network():\n",
    "    print(\"##### ネットワークの初期化 #####\")\n",
    "\n",
    "    network = {}\n",
    "    network['W1'] = np.array([\n",
    "        [0.1, 0.3, 0.5],\n",
    "        [0.2, 0.4, 0.6]\n",
    "    ])\n",
    "\n",
    "    network['W2'] = np.array([\n",
    "        [0.1, 0.4],\n",
    "        [0.2, 0.5],\n",
    "        [0.3, 0.6]\n",
    "    ])\n",
    "\n",
    "    network['b1'] = np.array([0.1, 0.2, 0.3])\n",
    "    network['b2'] = np.array([0.1, 0.2])\n",
    "    \n",
    "    print_vec(\"重み1\", network['W1'])\n",
    "    print_vec(\"重み2\", network['W2'])\n",
    "    print_vec(\"バイアス1\", network['b1'])\n",
    "    print_vec(\"バイアス2\", network['b2'])\n",
    "\n",
    "    return network\n",
    "\n",
    "# 順伝播\n",
    "def forward(network, x):\n",
    "    print(\"##### 順伝播開始 #####\")\n",
    "\n",
    "    W1, W2 = network['W1'], network['W2']\n",
    "    b1, b2 = network['b1'], network['b2']\n",
    "    \n",
    "    u1 = np.dot(x, W1) + b1\n",
    "    z1 = functions.relu(u1)\n",
    "    u2 = np.dot(z1, W2) + b2\n",
    "    y = functions.softmax(u2)\n",
    "    \n",
    "    print_vec(\"総入力1\", u1)\n",
    "    print_vec(\"中間層出力1\", z1)\n",
    "    print_vec(\"総入力2\", u2)\n",
    "    print_vec(\"出力1\", y)\n",
    "    print(\"出力合計: \" + str(np.sum(y)))\n",
    "\n",
    "    return y, z1\n",
    "\n",
    "# 誤差逆伝播\n",
    "def backward(x, d, z1, y):\n",
    "    print(\"\\n##### 誤差逆伝播開始 #####\")\n",
    "\n",
    "    grad = {}\n",
    "\n",
    "    W1, W2 = network['W1'], network['W2']\n",
    "    b1, b2 = network['b1'], network['b2']\n",
    "    #  出力層でのデルタ\n",
    "    delta2 = functions.d_sigmoid_with_loss(d, y)\n",
    "    #  b2の勾配\n",
    "    grad['b2'] = np.sum(delta2, axis=0)\n",
    "    #  W2の勾配\n",
    "    grad['W2'] = np.dot(z1.T, delta2)\n",
    "    #  中間層でのデルタ\n",
    "    delta1 = np.dot(delta2, W2.T) * functions.d_relu(z1)\n",
    "    # b1の勾配\n",
    "    grad['b1'] = np.sum(delta1, axis=0)\n",
    "    #  W1の勾配\n",
    "    grad['W1'] = np.dot(x.T, delta1)\n",
    "        \n",
    "    print_vec(\"偏微分_dE/du2\", delta2)\n",
    "    print_vec(\"偏微分_dE/du2\", delta1)\n",
    "\n",
    "    print_vec(\"偏微分_重み1\", grad[\"W1\"])\n",
    "    print_vec(\"偏微分_重み2\", grad[\"W2\"])\n",
    "    print_vec(\"偏微分_バイアス1\", grad[\"b1\"])\n",
    "    print_vec(\"偏微分_バイアス2\", grad[\"b2\"])\n",
    "\n",
    "    return grad\n",
    "    \n",
    "# 訓練データ\n",
    "x = np.array([[1.0, 5.0]])\n",
    "# 目標出力\n",
    "d = np.array([[0, 1]])\n",
    "#  学習率\n",
    "learning_rate = 0.01\n",
    "network =  init_network()\n",
    "y, z1 = forward(network, x)\n",
    "\n",
    "# 誤差\n",
    "loss = functions.cross_entropy_error(d, y)\n",
    "\n",
    "grad = backward(x, d, z1, y)\n",
    "for key in ('W1', 'W2', 'b1', 'b2'):\n",
    "    network[key]  -= learning_rate * grad[key]\n",
    "\n",
    "print(\"##### 結果表示 #####\")    \n",
    "\n",
    "\n",
    "print(\"##### 更新後パラメータ #####\") \n",
    "print_vec(\"重み1\", network['W1'])\n",
    "print_vec(\"重み2\", network['W2'])\n",
    "print_vec(\"バイアス1\", network['b1'])\n",
    "print_vec(\"バイアス2\", network['b2'])\n"
   ]
  }
 ],
 "metadata": {
  "colab": {
   "collapsed_sections": [],
   "name": "1_2_back_propagation.ipynb",
   "provenance": [],
   "toc_visible": true,
   "version": "0.3.2"
  },
  "kernelspec": {
   "display_name": "Python 3",
   "language": "python",
   "name": "python3"
  },
  "language_info": {
   "codemirror_mode": {
    "name": "ipython",
    "version": 3
   },
   "file_extension": ".py",
   "mimetype": "text/x-python",
   "name": "python",
   "nbconvert_exporter": "python",
   "pygments_lexer": "ipython3",
   "version": "3.8.5"
  },
  "toc": {
   "base_numbering": 1,
   "nav_menu": {},
   "number_sections": true,
   "sideBar": true,
   "skip_h1_title": false,
   "title_cell": "Table of Contents",
   "title_sidebar": "Contents",
   "toc_cell": false,
   "toc_position": {},
   "toc_section_display": true,
   "toc_window_display": false
  }
 },
 "nbformat": 4,
 "nbformat_minor": 1
}
