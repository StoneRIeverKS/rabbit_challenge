{
 "cells": [
  {
   "cell_type": "markdown",
   "metadata": {
    "colab_type": "text",
    "id": "8cNl2QA_Rnv5"
   },
   "source": [
    "# 準備"
   ]
  },
  {
   "cell_type": "markdown",
   "metadata": {
    "colab_type": "text",
    "id": "3Ub7RYdeY6pK"
   },
   "source": [
    "## sys.pathの設定"
   ]
  },
  {
   "cell_type": "markdown",
   "metadata": {
    "colab_type": "text",
    "id": "oql7L19rEsWi"
   },
   "source": [
    "以下では，Googleドライブのマイドライブ直下にDNN_codeフォルダを置くことを仮定しています．必要に応じて，パスを変更してください．"
   ]
  },
  {
   "cell_type": "code",
   "execution_count": 2,
   "metadata": {
    "ExecuteTime": {
     "end_time": "2022-01-09T05:24:10.985828Z",
     "start_time": "2022-01-09T05:24:10.968212Z"
    },
    "colab": {},
    "colab_type": "code",
    "id": "7Ic2JzkvFX59"
   },
   "outputs": [],
   "source": [
    "import sys\n",
    "sys.path.append('C:\\\\Users\\\\stone\\\\Documents\\\\資格\\\\E資格\\\\深層学習day1_2\\\\DNN_code_colab_lesson_1_2')"
   ]
  },
  {
   "cell_type": "markdown",
   "metadata": {
    "colab_type": "text",
    "id": "77mUsKgs41aZ"
   },
   "source": [
    "# simple convolution network"
   ]
  },
  {
   "cell_type": "markdown",
   "metadata": {
    "colab_type": "text",
    "id": "CZDjmllG41aa"
   },
   "source": [
    "## image to column"
   ]
  },
  {
   "cell_type": "code",
   "execution_count": 10,
   "metadata": {
    "ExecuteTime": {
     "end_time": "2022-01-09T05:26:18.450559Z",
     "start_time": "2022-01-09T05:26:18.437263Z"
    },
    "colab": {},
    "colab_type": "code",
    "id": "GFbg8ow141ab"
   },
   "outputs": [],
   "source": [
    "import pickle\n",
    "import numpy as np\n",
    "from collections import OrderedDict\n",
    "from common import layers\n",
    "from common import optimizer\n",
    "from data.mnist import load_mnist\n",
    "import matplotlib.pyplot as plt\n",
    "\n",
    "# 画像データを２次元配列に変換\n",
    "'''\n",
    "input_data: 入力値\n",
    "filter_h: フィルターの高さ\n",
    "filter_w: フィルターの横幅\n",
    "stride: ストライド\n",
    "pad: パディング\n",
    "'''\n",
    "def im2col(input_data, filter_h, filter_w, stride=1, pad=0):\n",
    "    # N: number, C: channel, H: height, W: width\n",
    "    N, C, H, W = input_data.shape\n",
    "    out_h = (H + 2 * pad - filter_h)//stride + 1\n",
    "    out_w = (W + 2 * pad - filter_w)//stride + 1\n",
    "\n",
    "    img = np.pad(input_data, [(0,0), (0,0), (pad, pad), (pad, pad)], 'constant')\n",
    "    col = np.zeros((N, C, filter_h, filter_w, out_h, out_w))\n",
    "\n",
    "    for y in range(filter_h):\n",
    "        y_max = y + stride * out_h\n",
    "        for x in range(filter_w):\n",
    "            x_max = x + stride * out_w\n",
    "            col[:, :, y, x, :, :] = img[:, :, y:y_max:stride, x:x_max:stride]\n",
    "    \n",
    "    #col = col.transpose(0, 4, 5, 1, 2, 3) # (N, C, filter_h, filter_w, out_h, out_w) -> (N, filter_w, out_h, out_w, C, filter_h)    \n",
    "    \n",
    "    col = col.reshape(N * out_h * out_w, -1)\n",
    "    return col"
   ]
  },
  {
   "cell_type": "markdown",
   "metadata": {
    "colab_type": "text",
    "id": "aahFoRM941ae"
   },
   "source": [
    "----------------------------------------------------------------------------------------------------------------------------------------------------------------------------\n",
    "## [try] im2colの処理を確認しよう\n",
    "・関数内でtransposeの処理をしている行をコメントアウトして下のコードを実行してみよう<br>\n",
    "・input_dataの各次元のサイズやフィルターサイズ・ストライド・パディングを変えてみよう\n",
    "\n",
    "----------------------------------------------------------------------------------------------------------------------------------------------------------------------------"
   ]
  },
  {
   "cell_type": "code",
   "execution_count": 11,
   "metadata": {
    "ExecuteTime": {
     "end_time": "2022-01-09T05:26:20.395558Z",
     "start_time": "2022-01-09T05:26:20.386957Z"
    },
    "scrolled": true
   },
   "outputs": [
    {
     "name": "stdout",
     "output_type": "stream",
     "text": [
      "========== input_data ===========\n",
      " [[[[83.  0.  4. 94.]\n",
      "   [ 4. 33.  2. 74.]\n",
      "   [25.  8. 43. 90.]\n",
      "   [72. 94. 49. 85.]]]\n",
      "\n",
      "\n",
      " [[[51. 74.  9. 69.]\n",
      "   [52. 78. 12. 40.]\n",
      "   [10. 34. 73. 71.]\n",
      "   [65. 44. 90. 39.]]]]\n",
      "==============================\n",
      "============= col ==============\n",
      " [[83.  0.  4. 33.  0.  4. 33.  2.  4.]\n",
      " [94.  2. 74.  4. 33. 25.  8. 33.  2.]\n",
      " [ 8. 43.  2. 74. 43. 90. 25.  8. 72.]\n",
      " [94.  8. 43. 94. 49. 43. 90. 49. 85.]\n",
      " [51. 74. 52. 78. 74.  9. 78. 12.  9.]\n",
      " [69. 12. 40. 52. 78. 10. 34. 78. 12.]\n",
      " [34. 73. 12. 40. 73. 71. 10. 34. 65.]\n",
      " [44. 34. 73. 44. 90. 73. 71. 90. 39.]]\n",
      "==============================\n"
     ]
    }
   ],
   "source": [
    "# im2colの処理確認\n",
    "input_data = np.random.rand(2, 1, 4, 4)*100//1 # number, channel, height, widthを表す\n",
    "print('========== input_data ===========\\n', input_data)\n",
    "print('==============================')\n",
    "filter_h = 3\n",
    "filter_w = 3\n",
    "stride = 1\n",
    "pad = 0\n",
    "col = im2col(input_data, filter_h=filter_h, filter_w=filter_w, stride=stride, pad=pad)\n",
    "print('============= col ==============\\n', col)\n",
    "print('==============================')"
   ]
  },
  {
   "cell_type": "code",
   "execution_count": 4,
   "metadata": {
    "ExecuteTime": {
     "end_time": "2022-01-09T05:24:11.439360Z",
     "start_time": "2022-01-09T05:24:11.425109Z"
    },
    "colab": {
     "base_uri": "https://localhost:8080/",
     "height": 391
    },
    "colab_type": "code",
    "executionInfo": {
     "elapsed": 1062,
     "status": "ok",
     "timestamp": 1567225134567,
     "user": {
      "displayName": "Fumitaro GOTO",
      "photoUrl": "https://lh3.googleusercontent.com/a-/AAuE7mAubrhEDJVP-rnoha-qvz9ByB1M60D47F3l4Mpr=s64",
      "userId": "04811870787810218771"
     },
     "user_tz": -540
    },
    "id": "Vd5NPF_641af",
    "outputId": "6314f684-612c-409b-e71c-4e4cc6ad23c1"
   },
   "outputs": [
    {
     "name": "stdout",
     "output_type": "stream",
     "text": [
      "========== input_data ===========\n",
      " [[[[32. 33. 75. 50.]\n",
      "   [51. 54. 18. 37.]\n",
      "   [11. 67. 19.  1.]\n",
      "   [60. 16. 51. 45.]]]\n",
      "\n",
      "\n",
      " [[[65. 31. 83. 95.]\n",
      "   [30.  8. 36. 62.]\n",
      "   [15. 47. 52. 84.]\n",
      "   [98. 15. 52. 24.]]]]\n",
      "==============================\n",
      "============= col ==============\n",
      " [[32. 33. 75. 51. 54. 18. 11. 67. 19.]\n",
      " [33. 75. 50. 54. 18. 37. 67. 19.  1.]\n",
      " [51. 54. 18. 11. 67. 19. 60. 16. 51.]\n",
      " [54. 18. 37. 67. 19.  1. 16. 51. 45.]\n",
      " [65. 31. 83. 30.  8. 36. 15. 47. 52.]\n",
      " [31. 83. 95.  8. 36. 62. 47. 52. 84.]\n",
      " [30.  8. 36. 15. 47. 52. 98. 15. 52.]\n",
      " [ 8. 36. 62. 47. 52. 84. 15. 52. 24.]]\n",
      "==============================\n"
     ]
    }
   ],
   "source": [
    "# im2colの処理確認\n",
    "input_data = np.random.rand(2, 1, 4, 4)*100//1 # number, channel, height, widthを表す\n",
    "print('========== input_data ===========\\n', input_data)\n",
    "print('==============================')\n",
    "filter_h = 3\n",
    "filter_w = 3\n",
    "stride = 1\n",
    "pad = 0\n",
    "col = im2col(input_data, filter_h=filter_h, filter_w=filter_w, stride=stride, pad=pad)\n",
    "print('============= col ==============\\n', col)\n",
    "print('==============================')"
   ]
  },
  {
   "cell_type": "code",
   "execution_count": 12,
   "metadata": {
    "ExecuteTime": {
     "end_time": "2022-01-09T05:28:33.223157Z",
     "start_time": "2022-01-09T05:28:33.200341Z"
    }
   },
   "outputs": [
    {
     "name": "stdout",
     "output_type": "stream",
     "text": [
      "========== input_data ===========\n",
      " [[[[85. 38. 51. 89.]\n",
      "   [22. 96. 60. 67.]\n",
      "   [44.  8. 35. 70.]\n",
      "   [11. 27.  2. 97.]]]\n",
      "\n",
      "\n",
      " [[[27. 72. 75.  0.]\n",
      "   [11. 25. 90. 51.]\n",
      "   [16. 93. 42. 75.]\n",
      "   [28. 52. 42. 18.]]]]\n",
      "==============================\n",
      "============= col ==============\n",
      " [[ 0.  0.  0.  0.  0. 85. 38. 51.  0.]\n",
      " [22. 96. 60.  0. 44.  8. 35.  0.  0.]\n",
      " [ 0.  0. 85. 38. 51. 89. 22. 96. 60.]\n",
      " [67. 44.  8. 35. 70.  0.  0.  0.  0.]\n",
      " [38. 51. 89.  0. 96. 60. 67.  0.  8.]\n",
      " [35. 70.  0.  0. 85. 38. 51.  0. 22.]\n",
      " [96. 60.  0. 44.  8. 35.  0. 11. 27.]\n",
      " [ 2. 85. 38. 51. 89. 22. 96. 60. 67.]\n",
      " [44.  8. 35. 70. 11. 27.  2. 97. 38.]\n",
      " [51. 89.  0. 96. 60. 67.  0.  8. 35.]\n",
      " [70.  0. 27.  2. 97.  0.  0. 22. 96.]\n",
      " [60.  0. 44.  8. 35.  0. 11. 27.  2.]\n",
      " [ 0.  0.  0.  0. 22. 96. 60. 67. 44.]\n",
      " [ 8. 35. 70. 11. 27.  2. 97.  0.  0.]\n",
      " [ 0.  0. 96. 60. 67.  0.  8. 35. 70.]\n",
      " [ 0. 27.  2. 97.  0.  0.  0.  0.  0.]\n",
      " [ 0.  0.  0.  0.  0. 27. 72. 75.  0.]\n",
      " [11. 25. 90.  0. 16. 93. 42.  0.  0.]\n",
      " [ 0.  0. 27. 72. 75.  0. 11. 25. 90.]\n",
      " [51. 16. 93. 42. 75.  0.  0.  0.  0.]\n",
      " [72. 75.  0.  0. 25. 90. 51.  0. 93.]\n",
      " [42. 75.  0.  0. 27. 72. 75.  0. 11.]\n",
      " [25. 90.  0. 16. 93. 42.  0. 28. 52.]\n",
      " [42. 27. 72. 75.  0. 11. 25. 90. 51.]\n",
      " [16. 93. 42. 75. 28. 52. 42. 18. 72.]\n",
      " [75.  0.  0. 25. 90. 51.  0. 93. 42.]\n",
      " [75.  0. 52. 42. 18.  0.  0. 11. 25.]\n",
      " [90.  0. 16. 93. 42.  0. 28. 52. 42.]\n",
      " [ 0.  0.  0.  0. 11. 25. 90. 51. 16.]\n",
      " [93. 42. 75. 28. 52. 42. 18.  0.  0.]\n",
      " [ 0.  0. 25. 90. 51.  0. 93. 42. 75.]\n",
      " [ 0. 52. 42. 18.  0.  0.  0.  0.  0.]]\n",
      "==============================\n"
     ]
    }
   ],
   "source": [
    "# im2colの処理確認\n",
    "input_data = np.random.rand(2, 1, 4, 4)*100//1 # number, channel, height, widthを表す\n",
    "print('========== input_data ===========\\n', input_data)\n",
    "print('==============================')\n",
    "filter_h = 3\n",
    "filter_w = 3\n",
    "stride = 1\n",
    "pad = 1\n",
    "col = im2col(input_data, filter_h=filter_h, filter_w=filter_w, stride=stride, pad=pad)\n",
    "print('============= col ==============\\n', col)\n",
    "print('==============================')"
   ]
  },
  {
   "cell_type": "markdown",
   "metadata": {
    "colab_type": "text",
    "id": "azeUAMll41ai"
   },
   "source": [
    "## column to image"
   ]
  },
  {
   "cell_type": "code",
   "execution_count": 5,
   "metadata": {
    "ExecuteTime": {
     "end_time": "2022-01-09T05:24:11.484666Z",
     "start_time": "2022-01-09T05:24:11.447043Z"
    },
    "colab": {},
    "colab_type": "code",
    "id": "sEg1ZgGH41aj"
   },
   "outputs": [],
   "source": [
    "# ２次元配列を画像データに変換\n",
    "def col2im(col, input_shape, filter_h, filter_w, stride=1, pad=0):\n",
    "    # N: number, C: channel, H: height, W: width\n",
    "    N, C, H, W = input_shape\n",
    "    # 切り捨て除算    \n",
    "    out_h = (H + 2 * pad - filter_h)//stride + 1\n",
    "    out_w = (W + 2 * pad - filter_w)//stride + 1\n",
    "    col = col.reshape(N, out_h, out_w, C, filter_h, filter_w).transpose(0, 3, 4, 5, 1, 2) # (N, filter_h, filter_w, out_h, out_w, C)\n",
    "\n",
    "    img = np.zeros((N, C, H + 2 * pad + stride - 1, W + 2 * pad + stride - 1))\n",
    "    for y in range(filter_h):\n",
    "        y_max = y + stride * out_h\n",
    "        for x in range(filter_w):\n",
    "            x_max = x + stride * out_w\n",
    "            img[:, :, y:y_max:stride, x:x_max:stride] += col[:, :, y, x, :, :]\n",
    "\n",
    "    return img[:, :, pad:H + pad, pad:W + pad]"
   ]
  },
  {
   "cell_type": "markdown",
   "metadata": {
    "colab_type": "text",
    "id": "WxIB8_ij41al"
   },
   "source": [
    "## col2imの処理を確認しよう\n",
    "・im2colの確認で出力したcolをimageに変換して確認しよう"
   ]
  },
  {
   "cell_type": "code",
   "execution_count": 22,
   "metadata": {
    "ExecuteTime": {
     "end_time": "2022-01-09T05:38:14.484798Z",
     "start_time": "2022-01-09T05:38:14.469508Z"
    }
   },
   "outputs": [
    {
     "name": "stdout",
     "output_type": "stream",
     "text": [
      "[[[[ 86. 422. 156. 244.]\n",
      "   [241. 405. 253. 211.]\n",
      "   [166. 132. 371. 245.]\n",
      "   [130. 229. 234. 123.]]]\n",
      "\n",
      "\n",
      " [[[117. 215. 342. 102.]\n",
      "   [310. 261. 355. 184.]\n",
      "   [221. 319. 301. 261.]\n",
      "   [ 57. 332. 192.  77.]]]]\n"
     ]
    }
   ],
   "source": [
    "# ここにcol2imでの処理を書こう\n",
    "img = col2im(col, input_shape=input_data.shape, filter_h=filter_h, filter_w=filter_w, stride=stride, pad=pad)\n",
    "print(img)"
   ]
  },
  {
   "cell_type": "markdown",
   "metadata": {
    "colab_type": "text",
    "id": "c6A1wrTW41ao"
   },
   "source": [
    "## convolution class"
   ]
  },
  {
   "cell_type": "code",
   "execution_count": 6,
   "metadata": {
    "ExecuteTime": {
     "end_time": "2022-01-09T05:24:11.499831Z",
     "start_time": "2022-01-09T05:24:11.486793Z"
    },
    "colab": {},
    "colab_type": "code",
    "id": "V48pgjoe41ap"
   },
   "outputs": [],
   "source": [
    "class Convolution:\n",
    "    # W: フィルター, b: バイアス\n",
    "    def __init__(self, W, b, stride=1, pad=0):\n",
    "        self.W = W\n",
    "        self.b = b\n",
    "        self.stride = stride\n",
    "        self.pad = pad\n",
    "        \n",
    "        # 中間データ（backward時に使用）\n",
    "        self.x = None   \n",
    "        self.col = None\n",
    "        self.col_W = None\n",
    "        \n",
    "        # フィルター・バイアスパラメータの勾配\n",
    "        self.dW = None\n",
    "        self.db = None\n",
    "\n",
    "    def forward(self, x):\n",
    "        # FN: filter_number, C: channel, FH: filter_height, FW: filter_width\n",
    "        FN, C, FH, FW = self.W.shape\n",
    "        N, C, H, W = x.shape\n",
    "        # 出力値のheight, width\n",
    "        out_h = 1 + int((H + 2 * self.pad - FH) / self.stride)\n",
    "        out_w = 1 + int((W + 2 * self.pad - FW) / self.stride)\n",
    "        \n",
    "        # xを行列に変換\n",
    "        col = im2col(x, FH, FW, self.stride, self.pad)\n",
    "        # フィルターをxに合わせた行列に変換\n",
    "        col_W = self.W.reshape(FN, -1).T\n",
    "\n",
    "        out = np.dot(col, col_W) + self.b\n",
    "        # 計算のために変えた形式を戻す\n",
    "        out = out.reshape(N, out_h, out_w, -1).transpose(0, 3, 1, 2)\n",
    "\n",
    "        self.x = x\n",
    "        self.col = col\n",
    "        self.col_W = col_W\n",
    "\n",
    "        return out\n",
    "\n",
    "    def backward(self, dout):\n",
    "        FN, C, FH, FW = self.W.shape\n",
    "        dout = dout.transpose(0, 2, 3, 1).reshape(-1, FN)\n",
    "\n",
    "        self.db = np.sum(dout, axis=0)\n",
    "        self.dW = np.dot(self.col.T, dout)\n",
    "        self.dW = self.dW.transpose(1, 0).reshape(FN, C, FH, FW)\n",
    "\n",
    "        dcol = np.dot(dout, self.col_W.T)\n",
    "        # dcolを画像データに変換\n",
    "        dx = col2im(dcol, self.x.shape, FH, FW, self.stride, self.pad)\n",
    "\n",
    "        return dx\n"
   ]
  },
  {
   "cell_type": "markdown",
   "metadata": {
    "colab_type": "text",
    "id": "ajeATc1r41ar"
   },
   "source": [
    "## pooling class"
   ]
  },
  {
   "cell_type": "code",
   "execution_count": 7,
   "metadata": {
    "ExecuteTime": {
     "end_time": "2022-01-09T05:24:11.515670Z",
     "start_time": "2022-01-09T05:24:11.502375Z"
    },
    "colab": {},
    "colab_type": "code",
    "id": "ohjf8L6d41as"
   },
   "outputs": [],
   "source": [
    "class Pooling:\n",
    "    def __init__(self, pool_h, pool_w, stride=1, pad=0):\n",
    "        self.pool_h = pool_h\n",
    "        self.pool_w = pool_w\n",
    "        self.stride = stride\n",
    "        self.pad = pad\n",
    "        \n",
    "        self.x = None\n",
    "        self.arg_max = None\n",
    "\n",
    "    def forward(self, x):\n",
    "        N, C, H, W = x.shape\n",
    "        out_h = int(1 + (H - self.pool_h) / self.stride)\n",
    "        out_w = int(1 + (W - self.pool_w) / self.stride)\n",
    "        \n",
    "        # xを行列に変換\n",
    "        col = im2col(x, self.pool_h, self.pool_w, self.stride, self.pad)\n",
    "        # プーリングのサイズに合わせてリサイズ\n",
    "        col = col.reshape(-1, self.pool_h*self.pool_w)\n",
    "        \n",
    "        # 行ごとに最大値を求める\n",
    "        arg_max = np.argmax(col, axis=1)\n",
    "        out = np.max(col, axis=1)\n",
    "        # 整形\n",
    "        out = out.reshape(N, out_h, out_w, C).transpose(0, 3, 1, 2)\n",
    "\n",
    "        self.x = x\n",
    "        self.arg_max = arg_max\n",
    "\n",
    "        return out\n",
    "\n",
    "    def backward(self, dout):\n",
    "        dout = dout.transpose(0, 2, 3, 1)\n",
    "        \n",
    "        pool_size = self.pool_h * self.pool_w\n",
    "        dmax = np.zeros((dout.size, pool_size))\n",
    "        dmax[np.arange(self.arg_max.size), self.arg_max.flatten()] = dout.flatten()\n",
    "        dmax = dmax.reshape(dout.shape + (pool_size,)) \n",
    "        \n",
    "        dcol = dmax.reshape(dmax.shape[0] * dmax.shape[1] * dmax.shape[2], -1)\n",
    "        dx = col2im(dcol, self.x.shape, self.pool_h, self.pool_w, self.stride, self.pad)\n",
    "        \n",
    "        return dx\n"
   ]
  },
  {
   "cell_type": "markdown",
   "metadata": {
    "colab_type": "text",
    "id": "R_4EiODW41av"
   },
   "source": [
    "## sinple convolution network class"
   ]
  },
  {
   "cell_type": "code",
   "execution_count": 8,
   "metadata": {
    "ExecuteTime": {
     "end_time": "2022-01-09T05:24:11.546102Z",
     "start_time": "2022-01-09T05:24:11.517811Z"
    },
    "colab": {},
    "colab_type": "code",
    "id": "Bjvis0sV41aw"
   },
   "outputs": [],
   "source": [
    "class SimpleConvNet:\n",
    "    # conv - relu - pool - affine - relu - affine - softmax\n",
    "    def __init__(self, input_dim=(1, 28, 28), conv_param={'filter_num':30, 'filter_size':5, 'pad':0, 'stride':1},\n",
    "                 hidden_size=100, output_size=10, weight_init_std=0.01):\n",
    "        filter_num = conv_param['filter_num']        \n",
    "        filter_size = conv_param['filter_size']\n",
    "        filter_pad = conv_param['pad']\n",
    "        filter_stride = conv_param['stride']\n",
    "        input_size = input_dim[1]\n",
    "        conv_output_size = (input_size - filter_size + 2 * filter_pad) / filter_stride + 1\n",
    "        pool_output_size = int(filter_num * (conv_output_size / 2) * (conv_output_size / 2))\n",
    "\n",
    "        # 重みの初期化\n",
    "        self.params = {}\n",
    "        self.params['W1'] = weight_init_std * np.random.randn(filter_num, input_dim[0], filter_size, filter_size)\n",
    "        self.params['b1'] = np.zeros(filter_num)\n",
    "        self.params['W2'] = weight_init_std * np.random.randn(pool_output_size, hidden_size)\n",
    "        self.params['b2'] = np.zeros(hidden_size)\n",
    "        self.params['W3'] = weight_init_std * np.random.randn(hidden_size, output_size)\n",
    "        self.params['b3'] = np.zeros(output_size)\n",
    "\n",
    "        # レイヤの生成\n",
    "        self.layers = OrderedDict()\n",
    "        self.layers['Conv1'] = layers.Convolution(self.params['W1'], self.params['b1'], conv_param['stride'], conv_param['pad'])\n",
    "        self.layers['Relu1'] = layers.Relu()\n",
    "        self.layers['Pool1'] = layers.Pooling(pool_h=2, pool_w=2, stride=2)\n",
    "        self.layers['Affine1'] = layers.Affine(self.params['W2'], self.params['b2'])\n",
    "        self.layers['Relu2'] = layers.Relu()\n",
    "        self.layers['Affine2'] = layers.Affine(self.params['W3'], self.params['b3'])\n",
    "\n",
    "        self.last_layer = layers.SoftmaxWithLoss()\n",
    "\n",
    "    def predict(self, x):\n",
    "        for key in self.layers.keys():\n",
    "            x = self.layers[key].forward(x)\n",
    "        return x\n",
    "        \n",
    "    def loss(self, x, d):\n",
    "        y = self.predict(x)\n",
    "        return self.last_layer.forward(y, d)\n",
    "\n",
    "    def accuracy(self, x, d, batch_size=100):\n",
    "        if d.ndim != 1 : d = np.argmax(d, axis=1)\n",
    "        \n",
    "        acc = 0.0\n",
    "        \n",
    "        for i in range(int(x.shape[0] / batch_size)):\n",
    "            tx = x[i*batch_size:(i+1)*batch_size]\n",
    "            td = d[i*batch_size:(i+1)*batch_size]\n",
    "            y = self.predict(tx)\n",
    "            y = np.argmax(y, axis=1)\n",
    "            acc += np.sum(y == td) \n",
    "        \n",
    "        return acc / x.shape[0]\n",
    "\n",
    "    def gradient(self, x, d):\n",
    "        # forward\n",
    "        self.loss(x, d)\n",
    "        \n",
    "        # backward\n",
    "        dout = 1\n",
    "        dout = self.last_layer.backward(dout)\n",
    "        layers = list(self.layers.values())\n",
    "        \n",
    "        layers.reverse()\n",
    "        for layer in layers:\n",
    "            dout = layer.backward(dout)\n",
    "\n",
    "        # 設定\n",
    "        grad = {}\n",
    "        grad['W1'], grad['b1'] = self.layers['Conv1'].dW, self.layers['Conv1'].db\n",
    "        grad['W2'], grad['b2'] = self.layers['Affine1'].dW, self.layers['Affine1'].db\n",
    "        grad['W3'], grad['b3'] = self.layers['Affine2'].dW, self.layers['Affine2'].db\n",
    "\n",
    "        return grad"
   ]
  },
  {
   "cell_type": "code",
   "execution_count": 23,
   "metadata": {
    "ExecuteTime": {
     "end_time": "2022-01-09T05:51:54.743569Z",
     "start_time": "2022-01-09T05:38:36.640381Z"
    },
    "colab": {
     "base_uri": "https://localhost:8080/",
     "height": 1000
    },
    "colab_type": "code",
    "executionInfo": {
     "elapsed": 722360,
     "status": "ok",
     "timestamp": 1567225883420,
     "user": {
      "displayName": "Fumitaro GOTO",
      "photoUrl": "https://lh3.googleusercontent.com/a-/AAuE7mAubrhEDJVP-rnoha-qvz9ByB1M60D47F3l4Mpr=s64",
      "userId": "04811870787810218771"
     },
     "user_tz": -540
    },
    "id": "UontjUaA41ay",
    "outputId": "c55f3912-166f-4974-a07e-61c52716dffb"
   },
   "outputs": [
    {
     "name": "stdout",
     "output_type": "stream",
     "text": [
      "データ読み込み完了\n"
     ]
    },
    {
     "data": {
      "image/png": "[encoded data removed]",
      "text/plain": [
       "<Figure size 432x288 with 1 Axes>"
      ]
     },
     "metadata": {
      "needs_background": "light"
     },
     "output_type": "display_data"
    }
   ],
   "source": [
    "from common import optimizer\n",
    "\n",
    "# データの読み込み\n",
    "(x_train, d_train), (x_test, d_test) = load_mnist(flatten=False)\n",
    "\n",
    "print(\"データ読み込み完了\")\n",
    "\n",
    "# 処理に時間のかかる場合はデータを削減 \n",
    "x_train, d_train = x_train[:5000], d_train[:5000]\n",
    "x_test, d_test = x_test[:1000], d_test[:1000]\n",
    "\n",
    "\n",
    "network = SimpleConvNet(input_dim=(1,28,28), conv_param = {'filter_num': 30, 'filter_size': 5, 'pad': 0, 'stride': 1},\n",
    "                        hidden_size=100, output_size=10, weight_init_std=0.01)\n",
    "\n",
    "optimizer = optimizer.Adam()\n",
    "\n",
    "iters_num = 1000\n",
    "train_size = x_train.shape[0]\n",
    "batch_size = 100\n",
    "\n",
    "train_loss_list = []\n",
    "accuracies_train = []\n",
    "accuracies_test = []\n",
    "\n",
    "plot_interval=10\n",
    "\n",
    "\n",
    "\n",
    "for i in range(iters_num):\n",
    "    batch_mask = np.random.choice(train_size, batch_size)\n",
    "    x_batch = x_train[batch_mask]\n",
    "    d_batch = d_train[batch_mask]\n",
    "    \n",
    "    grad = network.gradient(x_batch, d_batch)\n",
    "    optimizer.update(network.params, grad)\n",
    "\n",
    "    loss = network.loss(x_batch, d_batch)\n",
    "    train_loss_list.append(loss)\n",
    "\n",
    "    if (i+1) % plot_interval == 0:\n",
    "        accr_train = network.accuracy(x_train, d_train)\n",
    "        accr_test = network.accuracy(x_test, d_test)\n",
    "        accuracies_train.append(accr_train)\n",
    "        accuracies_test.append(accr_test)\n",
    "        \n",
    "        #print('Generation: ' + str(i+1) + '. 正答率(トレーニング) = ' + str(accr_train))\n",
    "        #print('                : ' + str(i+1) + '. 正答率(テスト) = ' + str(accr_test))               \n",
    "\n",
    "lists = range(0, iters_num, plot_interval)\n",
    "plt.plot(lists, accuracies_train, label=\"training set\")\n",
    "plt.plot(lists, accuracies_test,  label=\"test set\")\n",
    "plt.legend(loc=\"lower right\")\n",
    "plt.title(\"accuracy\")\n",
    "plt.xlabel(\"count\")\n",
    "plt.ylabel(\"accuracy\")\n",
    "plt.ylim(0, 1.0)\n",
    "# グラフの表示\n",
    "plt.show()"
   ]
  },
  {
   "cell_type": "code",
   "execution_count": null,
   "metadata": {
    "colab": {},
    "colab_type": "code",
    "id": "s73PJTtv41a2"
   },
   "outputs": [],
   "source": []
  },
  {
   "cell_type": "code",
   "execution_count": null,
   "metadata": {
    "colab": {},
    "colab_type": "code",
    "id": "IAtAWIrk41a4"
   },
   "outputs": [],
   "source": []
  },
  {
   "cell_type": "code",
   "execution_count": null,
   "metadata": {
    "colab": {},
    "colab_type": "code",
    "id": "uUsVD5ef41a6"
   },
   "outputs": [],
   "source": []
  }
 ],
 "metadata": {
  "accelerator": "GPU",
  "colab": {
   "collapsed_sections": [],
   "name": "2_6_simple_convolution_network.ipynb",
   "provenance": [],
   "toc_visible": true,
   "version": "0.3.2"
  },
  "kernelspec": {
   "display_name": "Python 3",
   "language": "python",
   "name": "python3"
  },
  "language_info": {
   "codemirror_mode": {
    "name": "ipython",
    "version": 3
   },
   "file_extension": ".py",
   "mimetype": "text/x-python",
   "name": "python",
   "nbconvert_exporter": "python",
   "pygments_lexer": "ipython3",
   "version": "3.8.5"
  },
  "toc": {
   "base_numbering": 1,
   "nav_menu": {},
   "number_sections": true,
   "sideBar": true,
   "skip_h1_title": false,
   "title_cell": "Table of Contents",
   "title_sidebar": "Contents",
   "toc_cell": false,
   "toc_position": {},
   "toc_section_display": true,
   "toc_window_display": false
  }
 },
 "nbformat": 4,
 "nbformat_minor": 1
}
