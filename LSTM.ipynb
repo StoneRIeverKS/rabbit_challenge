{
 "cells": [
  {
   "cell_type": "code",
   "execution_count": 27,
   "metadata": {
    "ExecuteTime": {
     "end_time": "2022-01-09T14:43:43.662583Z",
     "start_time": "2022-01-09T14:43:43.643430Z"
    }
   },
   "outputs": [],
   "source": [
    "# 探索パスの設定\n",
    "import sys\n",
    "sys.path.append('C:\\\\Users\\\\stone\\\\Documents\\\\資格\\\\E資格\\\\深層学習day3_4\\\\DNN_code_colab_lesson_3_4\\\\DNN_code_colab_lesson_3_4')"
   ]
  },
  {
   "cell_type": "code",
   "execution_count": 28,
   "metadata": {
    "ExecuteTime": {
     "end_time": "2022-01-09T14:43:45.228161Z",
     "start_time": "2022-01-09T14:43:45.213137Z"
    }
   },
   "outputs": [],
   "source": [
    "import numpy as np\n",
    "from common import functions"
   ]
  },
  {
   "cell_type": "code",
   "execution_count": 29,
   "metadata": {
    "ExecuteTime": {
     "end_time": "2022-01-09T14:43:46.726112Z",
     "start_time": "2022-01-09T14:43:46.710925Z"
    }
   },
   "outputs": [],
   "source": [
    "# 各ゲートを定義\n",
    "def input_gate(w, u, x, y):\n",
    "    return(w*x+u*y)\n",
    "\n",
    "def forget_gate(w, u, x, y, t, T):\n",
    "    if t <= T:\n",
    "        return(0)\n",
    "    else:\n",
    "        return(w*x+u*y)\n",
    "\n",
    "def output_gate(w, u, v, x, y, c):\n",
    "    return(w*x+u*y+v*c)\n",
    "\n",
    "def lstm(x, y):\n",
    "    iaf = functions.sigmoid(x)*input_gate(w=1, u=1, x=x, y=y)+forget_gate(w=0.5, u=1, x=x, y=y, t=2, T=1)\n",
    "    g = functions.sigmoid(iaf)\n",
    "    return(g*output_gate(w=0.2, u=0.5, v=0.1, x=x, y=y, c=iaf))"
   ]
  },
  {
   "cell_type": "code",
   "execution_count": 31,
   "metadata": {
    "ExecuteTime": {
     "end_time": "2022-01-09T14:44:07.631468Z",
     "start_time": "2022-01-09T14:44:07.619893Z"
    }
   },
   "outputs": [],
   "source": [
    "y_list = [0]\n",
    "data = [0, 1, 2, 3, 4]\n",
    "\n",
    "# lstmの順伝播を計算\n",
    "for d in data:\n",
    "    y = y_list[-1]\n",
    "    y_list.append(lstm(x=d, y=y))"
   ]
  },
  {
   "cell_type": "code",
   "execution_count": 32,
   "metadata": {
    "ExecuteTime": {
     "end_time": "2022-01-09T14:44:18.773529Z",
     "start_time": "2022-01-09T14:44:18.759149Z"
    }
   },
   "outputs": [
    {
     "name": "stdout",
     "output_type": "stream",
     "text": [
      "[0, 0.0, 0.2500851606840379, 0.8160211829544808, 1.5989548250129566, 2.5089170356006028]\n"
     ]
    }
   ],
   "source": [
    "print(y_list)"
   ]
  }
 ],
 "metadata": {
  "kernelspec": {
   "display_name": "Python 3",
   "language": "python",
   "name": "python3"
  },
  "language_info": {
   "codemirror_mode": {
    "name": "ipython",
    "version": 3
   },
   "file_extension": ".py",
   "mimetype": "text/x-python",
   "name": "python",
   "nbconvert_exporter": "python",
   "pygments_lexer": "ipython3",
   "version": "3.8.5"
  },
  "toc": {
   "base_numbering": 1,
   "nav_menu": {},
   "number_sections": true,
   "sideBar": true,
   "skip_h1_title": false,
   "title_cell": "Table of Contents",
   "title_sidebar": "Contents",
   "toc_cell": false,
   "toc_position": {},
   "toc_section_display": true,
   "toc_window_display": false
  }
 },
 "nbformat": 4,
 "nbformat_minor": 4
}
