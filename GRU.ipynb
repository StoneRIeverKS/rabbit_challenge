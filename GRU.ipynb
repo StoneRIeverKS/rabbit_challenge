{
 "cells": [
  {
   "cell_type": "code",
   "execution_count": 3,
   "metadata": {
    "ExecuteTime": {
     "end_time": "2022-01-09T15:02:12.245742Z",
     "start_time": "2022-01-09T15:02:12.232935Z"
    }
   },
   "outputs": [],
   "source": [
    "# 探索パスの設定\n",
    "import sys\n",
    "sys.path.append('C:\\\\Users\\\\stone\\\\Documents\\\\資格\\\\E資格\\\\深層学習day3_4\\\\DNN_code_colab_lesson_3_4\\\\DNN_code_colab_lesson_3_4')"
   ]
  },
  {
   "cell_type": "code",
   "execution_count": 4,
   "metadata": {
    "ExecuteTime": {
     "end_time": "2022-01-09T15:02:32.997577Z",
     "start_time": "2022-01-09T15:02:32.975913Z"
    }
   },
   "outputs": [],
   "source": [
    "import numpy as np\n",
    "from common.functions import sigmoid"
   ]
  },
  {
   "cell_type": "code",
   "execution_count": 5,
   "metadata": {
    "ExecuteTime": {
     "end_time": "2022-01-09T15:02:33.665264Z",
     "start_time": "2022-01-09T15:02:33.647750Z"
    }
   },
   "outputs": [],
   "source": [
    "# GRUモデル\n",
    "# N:バッチサイズ、D:入力単語数、H:中間層の出力次元数\n",
    "class GRU:\n",
    "    def __init__(self, wx, wh, b):\n",
    "        self.params = wx, wh, b     # # wx[D,3H], wh[H,3H], b[3H]\n",
    "        \n",
    "    def forward(self, x, h_prev):\n",
    "        wx, wh, b = self.params\n",
    "        H = wh.shape[0]\n",
    "\n",
    "        wxz, wxr, wxh = wx[:, :H], wx[:, H:2*H], wx[:, 2*H:]    # 入力用重み\n",
    "        whz, whr, whh = wh[:, :H], wh[:, H:2*H], wh[:, 2*H:]    # 前の時刻出力用重み\n",
    "        bz, br, bh = b[:H], b[H:2*H], b[2*H:]                   # バイアス\n",
    "\n",
    "        z = sigmoid(np.dot(h_prev, whz) + np.dot(x, wxz) + bz)  # updateゲート\n",
    "        r = sigmoid(np.dot(h_prev, whr) + np.dot(x, wxr) + br)  # resetゲート\n",
    "        h_hat = sigmoid(np.dot(r*h_prev, whh) + np.dot(x, wxh) + bh )\n",
    "        h_next = (1-z) * h_prev + z * h_hat\n",
    "\n",
    "        return h_next"
   ]
  },
  {
   "cell_type": "code",
   "execution_count": 6,
   "metadata": {
    "ExecuteTime": {
     "end_time": "2022-01-09T15:02:34.206679Z",
     "start_time": "2022-01-09T15:02:34.162560Z"
    }
   },
   "outputs": [
    {
     "data": {
      "text/plain": [
       "array([[0.57876954, 0.90488023, 0.9983871 , 0.83600072, 0.97819573,\n",
       "        0.44253757, 0.9977668 , 0.99004064, 0.99993532, 0.99927626],\n",
       "       [0.99960749, 0.99255877, 1.        , 0.98864574, 0.99999343,\n",
       "        0.99403641, 1.        , 0.99950669, 0.99998834, 0.99999993],\n",
       "       [0.99999995, 0.99963418, 1.        , 0.99903091, 1.        ,\n",
       "        0.99997366, 1.        , 0.99992052, 0.99999987, 1.        ],\n",
       "       [1.        , 0.99998214, 1.        , 0.99992446, 1.        ,\n",
       "        0.99999988, 1.        , 0.99998713, 1.        , 1.        ],\n",
       "       [1.        , 0.99999913, 1.        , 0.99999427, 1.        ,\n",
       "        1.        , 1.        , 0.99999792, 1.        , 1.        ]])"
      ]
     },
     "execution_count": 6,
     "metadata": {},
     "output_type": "execute_result"
    }
   ],
   "source": [
    "import numpy as np\n",
    "\n",
    "# 入力を適当に定義\n",
    "x = np.arange(25).reshape(5,5)\n",
    "h_prev = np.ones((5,10))\n",
    "\n",
    "# 重みを初期化\n",
    "wx = np.random.randn(5, 30)\n",
    "wh = np.random.randn(10, 30)\n",
    "b = np.zeros(30)\n",
    "\n",
    "# モデルインスタンス\n",
    "gru = GRU(wx, wh, b)\n",
    "\n",
    "# 順伝播\n",
    "gru.forward(x, h_prev)"
   ]
  }
 ],
 "metadata": {
  "kernelspec": {
   "display_name": "Python 3",
   "language": "python",
   "name": "python3"
  },
  "language_info": {
   "codemirror_mode": {
    "name": "ipython",
    "version": 3
   },
   "file_extension": ".py",
   "mimetype": "text/x-python",
   "name": "python",
   "nbconvert_exporter": "python",
   "pygments_lexer": "ipython3",
   "version": "3.8.5"
  },
  "toc": {
   "base_numbering": 1,
   "nav_menu": {},
   "number_sections": true,
   "sideBar": true,
   "skip_h1_title": false,
   "title_cell": "Table of Contents",
   "title_sidebar": "Contents",
   "toc_cell": false,
   "toc_position": {},
   "toc_section_display": true,
   "toc_window_display": false
  }
 },
 "nbformat": 4,
 "nbformat_minor": 4
}
